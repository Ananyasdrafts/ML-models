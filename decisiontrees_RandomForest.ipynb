{
 "cells": [
  {
   "cell_type": "markdown",
   "metadata": {},
   "source": [
    "*****************************************************\n",
    "Decision Tree Classifier on a Diabetes dataset\n",
    "*****************************************************"
   ]
  },
  {
   "cell_type": "code",
   "execution_count": 1,
   "metadata": {},
   "outputs": [],
   "source": [
    "\n",
    "import pandas as pd\n",
    "from sklearn.tree import DecisionTreeClassifier \n",
    "from sklearn.model_selection import train_test_split \n",
    "from sklearn import metrics \n"
   ]
  },
  {
   "cell_type": "code",
   "execution_count": 2,
   "metadata": {},
   "outputs": [
    {
     "data": {
      "text/html": [
       "<div>\n",
       "<style scoped>\n",
       "    .dataframe tbody tr th:only-of-type {\n",
       "        vertical-align: middle;\n",
       "    }\n",
       "\n",
       "    .dataframe tbody tr th {\n",
       "        vertical-align: top;\n",
       "    }\n",
       "\n",
       "    .dataframe thead th {\n",
       "        text-align: right;\n",
       "    }\n",
       "</style>\n",
       "<table border=\"1\" class=\"dataframe\">\n",
       "  <thead>\n",
       "    <tr style=\"text-align: right;\">\n",
       "      <th></th>\n",
       "      <th>Pregnancies</th>\n",
       "      <th>Glucose</th>\n",
       "      <th>BloodPressure</th>\n",
       "      <th>SkinThickness</th>\n",
       "      <th>Insulin</th>\n",
       "      <th>BMI</th>\n",
       "      <th>DiabetesPedigreeFunction</th>\n",
       "      <th>Age</th>\n",
       "      <th>Outcome</th>\n",
       "    </tr>\n",
       "  </thead>\n",
       "  <tbody>\n",
       "    <tr>\n",
       "      <th>0</th>\n",
       "      <td>6</td>\n",
       "      <td>148</td>\n",
       "      <td>72</td>\n",
       "      <td>35</td>\n",
       "      <td>0</td>\n",
       "      <td>33.6</td>\n",
       "      <td>0.627</td>\n",
       "      <td>50</td>\n",
       "      <td>1</td>\n",
       "    </tr>\n",
       "    <tr>\n",
       "      <th>1</th>\n",
       "      <td>1</td>\n",
       "      <td>85</td>\n",
       "      <td>66</td>\n",
       "      <td>29</td>\n",
       "      <td>0</td>\n",
       "      <td>26.6</td>\n",
       "      <td>0.351</td>\n",
       "      <td>31</td>\n",
       "      <td>0</td>\n",
       "    </tr>\n",
       "    <tr>\n",
       "      <th>2</th>\n",
       "      <td>8</td>\n",
       "      <td>183</td>\n",
       "      <td>64</td>\n",
       "      <td>0</td>\n",
       "      <td>0</td>\n",
       "      <td>23.3</td>\n",
       "      <td>0.672</td>\n",
       "      <td>32</td>\n",
       "      <td>1</td>\n",
       "    </tr>\n",
       "    <tr>\n",
       "      <th>3</th>\n",
       "      <td>1</td>\n",
       "      <td>89</td>\n",
       "      <td>66</td>\n",
       "      <td>23</td>\n",
       "      <td>94</td>\n",
       "      <td>28.1</td>\n",
       "      <td>0.167</td>\n",
       "      <td>21</td>\n",
       "      <td>0</td>\n",
       "    </tr>\n",
       "    <tr>\n",
       "      <th>4</th>\n",
       "      <td>0</td>\n",
       "      <td>137</td>\n",
       "      <td>40</td>\n",
       "      <td>35</td>\n",
       "      <td>168</td>\n",
       "      <td>43.1</td>\n",
       "      <td>2.288</td>\n",
       "      <td>33</td>\n",
       "      <td>1</td>\n",
       "    </tr>\n",
       "  </tbody>\n",
       "</table>\n",
       "</div>"
      ],
      "text/plain": [
       "   Pregnancies  Glucose  BloodPressure  SkinThickness  Insulin   BMI  \\\n",
       "0            6      148             72             35        0  33.6   \n",
       "1            1       85             66             29        0  26.6   \n",
       "2            8      183             64              0        0  23.3   \n",
       "3            1       89             66             23       94  28.1   \n",
       "4            0      137             40             35      168  43.1   \n",
       "\n",
       "   DiabetesPedigreeFunction  Age  Outcome  \n",
       "0                     0.627   50        1  \n",
       "1                     0.351   31        0  \n",
       "2                     0.672   32        1  \n",
       "3                     0.167   21        0  \n",
       "4                     2.288   33        1  "
      ]
     },
     "execution_count": 2,
     "metadata": {},
     "output_type": "execute_result"
    }
   ],
   "source": [
    "dp = r\"C:\\Users\\anany\\Downloads\\archive (2)\\diabetes.csv\"\n",
    "df = pd.read_csv(dp)\n",
    "df.head()"
   ]
  },
  {
   "cell_type": "code",
   "execution_count": 3,
   "metadata": {},
   "outputs": [],
   "source": [
    "\n",
    "features = ['Pregnancies', 'Glucose', 'BloodPressure', 'SkinThickness','Insulin','BMI','DiabetesPedigreeFunction', 'Age']\n",
    "X = df[features]\n",
    "y = df.Outcome\n"
   ]
  },
  {
   "cell_type": "code",
   "execution_count": 4,
   "metadata": {},
   "outputs": [],
   "source": [
    "\n",
    "X_train, X_test, y_train, y_test = train_test_split(X, y, test_size=0.25, random_state=1) \n"
   ]
  },
  {
   "cell_type": "code",
   "execution_count": 5,
   "metadata": {},
   "outputs": [],
   "source": [
    "\n",
    "dt = DecisionTreeClassifier()\n",
    "dt = dt.fit(X_train,y_train)\n",
    "y_pred = dt.predict(X_test)\n"
   ]
  },
  {
   "cell_type": "code",
   "execution_count": 6,
   "metadata": {},
   "outputs": [
    {
     "data": {
      "text/plain": [
       "1.0"
      ]
     },
     "execution_count": 6,
     "metadata": {},
     "output_type": "execute_result"
    }
   ],
   "source": [
    "score = dt.score(X_train, y_train)\n",
    "score"
   ]
  },
  {
   "cell_type": "code",
   "execution_count": 7,
   "metadata": {},
   "outputs": [
    {
     "data": {
      "text/plain": [
       "0.7135416666666666"
      ]
     },
     "execution_count": 7,
     "metadata": {},
     "output_type": "execute_result"
    }
   ],
   "source": [
    "acc = metrics.accuracy_score(y_test, y_pred)\n",
    "acc"
   ]
  },
  {
   "cell_type": "code",
   "execution_count": 8,
   "metadata": {},
   "outputs": [
    {
     "data": {
      "text/plain": [
       "-0.24425592082007785"
      ]
     },
     "execution_count": 8,
     "metadata": {},
     "output_type": "execute_result"
    }
   ],
   "source": [
    "r2 = metrics.r2_score(y_test, y_pred)\n",
    "r2"
   ]
  },
  {
   "cell_type": "code",
   "execution_count": 9,
   "metadata": {},
   "outputs": [
    {
     "data": {
      "text/plain": [
       "0.609375"
      ]
     },
     "execution_count": 9,
     "metadata": {},
     "output_type": "execute_result"
    }
   ],
   "source": [
    "precision = metrics.precision_score(y_test, y_pred)\n",
    "precision"
   ]
  },
  {
   "cell_type": "code",
   "execution_count": 10,
   "metadata": {},
   "outputs": [
    {
     "data": {
      "text/plain": [
       "0.5652173913043478"
      ]
     },
     "execution_count": 10,
     "metadata": {},
     "output_type": "execute_result"
    }
   ],
   "source": [
    "recall = metrics.recall_score(y_test, y_pred)\n",
    "recall"
   ]
  },
  {
   "cell_type": "code",
   "execution_count": 11,
   "metadata": {},
   "outputs": [
    {
     "data": {
      "text/plain": [
       "array([[98, 25],\n",
       "       [30, 39]], dtype=int64)"
      ]
     },
     "execution_count": 11,
     "metadata": {},
     "output_type": "execute_result"
    }
   ],
   "source": [
    "\n",
    "cnf_matrix = metrics.confusion_matrix(y_test, y_pred) \n",
    "cnf_matrix "
   ]
  },
  {
   "cell_type": "code",
   "execution_count": 12,
   "metadata": {},
   "outputs": [
    {
     "data": {
      "text/plain": [
       "<sklearn.metrics._plot.confusion_matrix.ConfusionMatrixDisplay at 0x21674429a90>"
      ]
     },
     "execution_count": 12,
     "metadata": {},
     "output_type": "execute_result"
    },
    {
     "data": {
      "image/png": "[encoded data removed]",
      "text/plain": [
       "<Figure size 640x480 with 2 Axes>"
      ]
     },
     "metadata": {},
     "output_type": "display_data"
    }
   ],
   "source": [
    "#displaying confusion matrix\n",
    "metrics.ConfusionMatrixDisplay(confusion_matrix=cnf_matrix).plot()"
   ]
  },
  {
   "cell_type": "markdown",
   "metadata": {},
   "source": [
    "VISUALIZING DECISION TREE USING GRAPHVIZ"
   ]
  },
  {
   "cell_type": "code",
   "execution_count": 13,
   "metadata": {},
   "outputs": [],
   "source": [
    "from sklearn.tree import export_graphviz\n",
    "from IPython.display import Image\n",
    "import graphviz\n",
    "\n",
    "import os\n",
    "os.environ[\"PATH\"] += os.pathsep + r\"C:\\Users\\anany\\Downloads\\windows_10_msbuild_Release_graphviz-9.0.0-win32\\Graphviz\\bin\"\n"
   ]
  },
  {
   "cell_type": "code",
   "execution_count": 14,
   "metadata": {},
   "outputs": [
    {
     "data": {
      "image/svg+xml": [
       "<?xml version=\"1.0\" encoding=\"UTF-8\" standalone=\"no\"?>\n",
       "<!DOCTYPE svg PUBLIC \"-//W3C//DTD SVG 1.1//EN\"\n",
       " \"http://www.w3.org/Graphics/SVG/1.1/DTD/svg11.dtd\">\n",
       "<!-- Generated by graphviz version 9.0.0 (20230911.1827)\n",
       " -->\n",
       "<!-- Title: Tree Pages: 1 -->\n",
       "<svg width=\"674pt\" height=\"325pt\"\n",
       " viewBox=\"0.00 0.00 674.25 324.50\" xmlns=\"http://www.w3.org/2000/svg\" xmlns:xlink=\"http://www.w3.org/1999/xlink\">\n",
       "<g id=\"graph0\" class=\"graph\" transform=\"scale(1 1) rotate(0) translate(4 320.5)\">\n",
       "<title>Tree</title>\n",
       "<polygon fill=\"white\" stroke=\"none\" points=\"-4,4 -4,-320.5 670.25,-320.5 670.25,4 -4,4\"/>\n",
       "<!-- 0 -->\n",
       "<g id=\"node1\" class=\"node\">\n",
       "<title>0</title>\n",
       "<polygon fill=\"#f3c4a2\" stroke=\"black\" points=\"409.25,-316.5 256,-316.5 256,-259 409.25,-259 409.25,-316.5\"/>\n",
       "<text text-anchor=\"middle\" x=\"332.62\" y=\"-299.2\" font-family=\"Helvetica,sans-Serif\" font-size=\"14.00\">Glucose &lt;= 129.5</text>\n",
       "<text text-anchor=\"middle\" x=\"332.62\" y=\"-282.7\" font-family=\"Helvetica,sans-Serif\" font-size=\"14.00\">samples = 100.0%</text>\n",
       "<text text-anchor=\"middle\" x=\"332.62\" y=\"-266.2\" font-family=\"Helvetica,sans-Serif\" font-size=\"14.00\">value = [0.655, 0.345]</text>\n",
       "</g>\n",
       "<!-- 1 -->\n",
       "<g id=\"node2\" class=\"node\">\n",
       "<title>1</title>\n",
       "<polygon fill=\"#eca16c\" stroke=\"black\" points=\"324.25,-223 171,-223 171,-165.5 324.25,-165.5 324.25,-223\"/>\n",
       "<text text-anchor=\"middle\" x=\"247.62\" y=\"-205.7\" font-family=\"Helvetica,sans-Serif\" font-size=\"14.00\">Age &lt;= 28.5</text>\n",
       "<text text-anchor=\"middle\" x=\"247.62\" y=\"-189.2\" font-family=\"Helvetica,sans-Serif\" font-size=\"14.00\">samples = 66.3%</text>\n",
       "<text text-anchor=\"middle\" x=\"247.62\" y=\"-172.7\" font-family=\"Helvetica,sans-Serif\" font-size=\"14.00\">value = [0.796, 0.204]</text>\n",
       "</g>\n",
       "<!-- 0&#45;&gt;1 -->\n",
       "<g id=\"edge1\" class=\"edge\">\n",
       "<title>0&#45;&gt;1</title>\n",
       "<path fill=\"none\" stroke=\"black\" d=\"M306.66,-258.8C298.74,-250.28 289.92,-240.78 281.56,-231.77\"/>\n",
       "<polygon fill=\"black\" stroke=\"black\" points=\"284.12,-229.4 274.75,-224.45 279,-234.16 284.12,-229.4\"/>\n",
       "<text text-anchor=\"middle\" x=\"272.8\" y=\"-243.28\" font-family=\"Helvetica,sans-Serif\" font-size=\"14.00\">True</text>\n",
       "</g>\n",
       "<!-- 122 -->\n",
       "<g id=\"node9\" class=\"node\">\n",
       "<title>122</title>\n",
       "<polygon fill=\"#b0d8f5\" stroke=\"black\" points=\"495.25,-223 342,-223 342,-165.5 495.25,-165.5 495.25,-223\"/>\n",
       "<text text-anchor=\"middle\" x=\"418.62\" y=\"-205.7\" font-family=\"Helvetica,sans-Serif\" font-size=\"14.00\">BMI &lt;= 29.95</text>\n",
       "<text text-anchor=\"middle\" x=\"418.62\" y=\"-189.2\" font-family=\"Helvetica,sans-Serif\" font-size=\"14.00\">samples = 33.7%</text>\n",
       "<text text-anchor=\"middle\" x=\"418.62\" y=\"-172.7\" font-family=\"Helvetica,sans-Serif\" font-size=\"14.00\">value = [0.376, 0.624]</text>\n",
       "</g>\n",
       "<!-- 0&#45;&gt;122 -->\n",
       "<g id=\"edge8\" class=\"edge\">\n",
       "<title>0&#45;&gt;122</title>\n",
       "<path fill=\"none\" stroke=\"black\" d=\"M358.9,-258.8C366.99,-250.19 376.02,-240.58 384.56,-231.5\"/>\n",
       "<polygon fill=\"black\" stroke=\"black\" points=\"386.88,-234.13 391.18,-224.45 381.78,-229.34 386.88,-234.13\"/>\n",
       "<text text-anchor=\"middle\" x=\"392.99\" y=\"-243.28\" font-family=\"Helvetica,sans-Serif\" font-size=\"14.00\">False</text>\n",
       "</g>\n",
       "<!-- 2 -->\n",
       "<g id=\"node3\" class=\"node\">\n",
       "<title>2</title>\n",
       "<polygon fill=\"#e89051\" stroke=\"black\" points=\"153.25,-129.5 0,-129.5 0,-72 153.25,-72 153.25,-129.5\"/>\n",
       "<text text-anchor=\"middle\" x=\"76.62\" y=\"-112.2\" font-family=\"Helvetica,sans-Serif\" font-size=\"14.00\">BMI &lt;= 45.4</text>\n",
       "<text text-anchor=\"middle\" x=\"76.62\" y=\"-95.7\" font-family=\"Helvetica,sans-Serif\" font-size=\"14.00\">samples = 37.3%</text>\n",
       "<text text-anchor=\"middle\" x=\"76.62\" y=\"-79.2\" font-family=\"Helvetica,sans-Serif\" font-size=\"14.00\">value = [0.893, 0.107]</text>\n",
       "</g>\n",
       "<!-- 1&#45;&gt;2 -->\n",
       "<g id=\"edge2\" class=\"edge\">\n",
       "<title>1&#45;&gt;2</title>\n",
       "<path fill=\"none\" stroke=\"black\" d=\"M194.92,-165.05C177.29,-155.61 157.46,-145 139.15,-135.2\"/>\n",
       "<polygon fill=\"black\" stroke=\"black\" points=\"140.95,-132.2 130.49,-130.57 137.65,-138.37 140.95,-132.2\"/>\n",
       "</g>\n",
       "<!-- 53 -->\n",
       "<g id=\"node6\" class=\"node\">\n",
       "<title>53</title>\n",
       "<polygon fill=\"#f2bf9a\" stroke=\"black\" points=\"324.25,-129.5 171,-129.5 171,-72 324.25,-72 324.25,-129.5\"/>\n",
       "<text text-anchor=\"middle\" x=\"247.62\" y=\"-112.2\" font-family=\"Helvetica,sans-Serif\" font-size=\"14.00\">BMI &lt;= 26.2</text>\n",
       "<text text-anchor=\"middle\" x=\"247.62\" y=\"-95.7\" font-family=\"Helvetica,sans-Serif\" font-size=\"14.00\">samples = 29.0%</text>\n",
       "<text text-anchor=\"middle\" x=\"247.62\" y=\"-79.2\" font-family=\"Helvetica,sans-Serif\" font-size=\"14.00\">value = [0.671, 0.329]</text>\n",
       "</g>\n",
       "<!-- 1&#45;&gt;53 -->\n",
       "<g id=\"edge5\" class=\"edge\">\n",
       "<title>1&#45;&gt;53</title>\n",
       "<path fill=\"none\" stroke=\"black\" d=\"M247.62,-165.3C247.62,-157.74 247.62,-149.42 247.62,-141.35\"/>\n",
       "<polygon fill=\"black\" stroke=\"black\" points=\"251.13,-141.36 247.63,-131.36 244.13,-141.36 251.13,-141.36\"/>\n",
       "</g>\n",
       "<!-- 3 -->\n",
       "<g id=\"node4\" class=\"node\">\n",
       "<title>3</title>\n",
       "<polygon fill=\"#c0c0c0\" stroke=\"black\" points=\"78.62,-36 24.62,-36 24.62,0 78.62,0 78.62,-36\"/>\n",
       "<text text-anchor=\"middle\" x=\"51.62\" y=\"-12.95\" font-family=\"Helvetica,sans-Serif\" font-size=\"14.00\">(...)</text>\n",
       "</g>\n",
       "<!-- 2&#45;&gt;3 -->\n",
       "<g id=\"edge3\" class=\"edge\">\n",
       "<title>2&#45;&gt;3</title>\n",
       "<path fill=\"none\" stroke=\"black\" d=\"M67.88,-71.51C65.42,-63.56 62.75,-54.93 60.29,-47\"/>\n",
       "<polygon fill=\"black\" stroke=\"black\" points=\"63.65,-46.01 57.35,-37.49 56.96,-48.08 63.65,-46.01\"/>\n",
       "</g>\n",
       "<!-- 50 -->\n",
       "<g id=\"node5\" class=\"node\">\n",
       "<title>50</title>\n",
       "<polygon fill=\"#c0c0c0\" stroke=\"black\" points=\"150.62,-36 96.62,-36 96.62,0 150.62,0 150.62,-36\"/>\n",
       "<text text-anchor=\"middle\" x=\"123.62\" y=\"-12.95\" font-family=\"Helvetica,sans-Serif\" font-size=\"14.00\">(...)</text>\n",
       "</g>\n",
       "<!-- 2&#45;&gt;50 -->\n",
       "<g id=\"edge4\" class=\"edge\">\n",
       "<title>2&#45;&gt;50</title>\n",
       "<path fill=\"none\" stroke=\"black\" d=\"M93.06,-71.51C97.9,-63.19 103.18,-54.12 107.97,-45.89\"/>\n",
       "<polygon fill=\"black\" stroke=\"black\" points=\"110.94,-47.76 112.94,-37.35 104.89,-44.23 110.94,-47.76\"/>\n",
       "</g>\n",
       "<!-- 54 -->\n",
       "<g id=\"node7\" class=\"node\">\n",
       "<title>54</title>\n",
       "<polygon fill=\"#c0c0c0\" stroke=\"black\" points=\"233.62,-36 179.62,-36 179.62,0 233.62,0 233.62,-36\"/>\n",
       "<text text-anchor=\"middle\" x=\"206.62\" y=\"-12.95\" font-family=\"Helvetica,sans-Serif\" font-size=\"14.00\">(...)</text>\n",
       "</g>\n",
       "<!-- 53&#45;&gt;54 -->\n",
       "<g id=\"edge6\" class=\"edge\">\n",
       "<title>53&#45;&gt;54</title>\n",
       "<path fill=\"none\" stroke=\"black\" d=\"M233.29,-71.51C229.11,-63.29 224.56,-54.32 220.42,-46.17\"/>\n",
       "<polygon fill=\"black\" stroke=\"black\" points=\"223.61,-44.73 215.96,-37.39 217.37,-47.9 223.61,-44.73\"/>\n",
       "</g>\n",
       "<!-- 57 -->\n",
       "<g id=\"node8\" class=\"node\">\n",
       "<title>57</title>\n",
       "<polygon fill=\"#c0c0c0\" stroke=\"black\" points=\"305.62,-36 251.62,-36 251.62,0 305.62,0 305.62,-36\"/>\n",
       "<text text-anchor=\"middle\" x=\"278.62\" y=\"-12.95\" font-family=\"Helvetica,sans-Serif\" font-size=\"14.00\">(...)</text>\n",
       "</g>\n",
       "<!-- 53&#45;&gt;57 -->\n",
       "<g id=\"edge7\" class=\"edge\">\n",
       "<title>53&#45;&gt;57</title>\n",
       "<path fill=\"none\" stroke=\"black\" d=\"M258.47,-71.51C261.55,-63.47 264.91,-54.73 267.98,-46.72\"/>\n",
       "<polygon fill=\"black\" stroke=\"black\" points=\"271.22,-48.05 271.54,-37.46 264.69,-45.54 271.22,-48.05\"/>\n",
       "</g>\n",
       "<!-- 123 -->\n",
       "<g id=\"node10\" class=\"node\">\n",
       "<title>123</title>\n",
       "<polygon fill=\"#f3c7a7\" stroke=\"black\" points=\"495.25,-129.5 342,-129.5 342,-72 495.25,-72 495.25,-129.5\"/>\n",
       "<text text-anchor=\"middle\" x=\"418.62\" y=\"-112.2\" font-family=\"Helvetica,sans-Serif\" font-size=\"14.00\">Pregnancies &lt;= 1.5</text>\n",
       "<text text-anchor=\"middle\" x=\"418.62\" y=\"-95.7\" font-family=\"Helvetica,sans-Serif\" font-size=\"14.00\">samples = 9.7%</text>\n",
       "<text text-anchor=\"middle\" x=\"418.62\" y=\"-79.2\" font-family=\"Helvetica,sans-Serif\" font-size=\"14.00\">value = [0.643, 0.357]</text>\n",
       "</g>\n",
       "<!-- 122&#45;&gt;123 -->\n",
       "<g id=\"edge9\" class=\"edge\">\n",
       "<title>122&#45;&gt;123</title>\n",
       "<path fill=\"none\" stroke=\"black\" d=\"M418.62,-165.3C418.62,-157.74 418.62,-149.42 418.62,-141.35\"/>\n",
       "<polygon fill=\"black\" stroke=\"black\" points=\"422.13,-141.36 418.63,-131.36 415.13,-141.36 422.13,-141.36\"/>\n",
       "</g>\n",
       "<!-- 150 -->\n",
       "<g id=\"node13\" class=\"node\">\n",
       "<title>150</title>\n",
       "<polygon fill=\"#82c1ef\" stroke=\"black\" points=\"666.25,-129.5 513,-129.5 513,-72 666.25,-72 666.25,-129.5\"/>\n",
       "<text text-anchor=\"middle\" x=\"589.62\" y=\"-112.2\" font-family=\"Helvetica,sans-Serif\" font-size=\"14.00\">Glucose &lt;= 154.5</text>\n",
       "<text text-anchor=\"middle\" x=\"589.62\" y=\"-95.7\" font-family=\"Helvetica,sans-Serif\" font-size=\"14.00\">samples = 24.0%</text>\n",
       "<text text-anchor=\"middle\" x=\"589.62\" y=\"-79.2\" font-family=\"Helvetica,sans-Serif\" font-size=\"14.00\">value = [0.268, 0.732]</text>\n",
       "</g>\n",
       "<!-- 122&#45;&gt;150 -->\n",
       "<g id=\"edge12\" class=\"edge\">\n",
       "<title>122&#45;&gt;150</title>\n",
       "<path fill=\"none\" stroke=\"black\" d=\"M471.33,-165.05C488.96,-155.61 508.79,-145 527.1,-135.2\"/>\n",
       "<polygon fill=\"black\" stroke=\"black\" points=\"528.6,-138.37 535.76,-130.57 525.3,-132.2 528.6,-138.37\"/>\n",
       "</g>\n",
       "<!-- 124 -->\n",
       "<g id=\"node11\" class=\"node\">\n",
       "<title>124</title>\n",
       "<polygon fill=\"#c0c0c0\" stroke=\"black\" points=\"399.62,-36 345.62,-36 345.62,0 399.62,0 399.62,-36\"/>\n",
       "<text text-anchor=\"middle\" x=\"372.62\" y=\"-12.95\" font-family=\"Helvetica,sans-Serif\" font-size=\"14.00\">(...)</text>\n",
       "</g>\n",
       "<!-- 123&#45;&gt;124 -->\n",
       "<g id=\"edge10\" class=\"edge\">\n",
       "<title>123&#45;&gt;124</title>\n",
       "<path fill=\"none\" stroke=\"black\" d=\"M402.54,-71.51C397.8,-63.19 392.63,-54.12 387.95,-45.89\"/>\n",
       "<polygon fill=\"black\" stroke=\"black\" points=\"391.07,-44.32 383.08,-37.36 384.99,-47.78 391.07,-44.32\"/>\n",
       "</g>\n",
       "<!-- 125 -->\n",
       "<g id=\"node12\" class=\"node\">\n",
       "<title>125</title>\n",
       "<polygon fill=\"#c0c0c0\" stroke=\"black\" points=\"471.62,-36 417.62,-36 417.62,0 471.62,0 471.62,-36\"/>\n",
       "<text text-anchor=\"middle\" x=\"444.62\" y=\"-12.95\" font-family=\"Helvetica,sans-Serif\" font-size=\"14.00\">(...)</text>\n",
       "</g>\n",
       "<!-- 123&#45;&gt;125 -->\n",
       "<g id=\"edge11\" class=\"edge\">\n",
       "<title>123&#45;&gt;125</title>\n",
       "<path fill=\"none\" stroke=\"black\" d=\"M427.72,-71.51C430.28,-63.56 433.06,-54.93 435.61,-47\"/>\n",
       "<polygon fill=\"black\" stroke=\"black\" points=\"438.94,-48.08 438.67,-37.49 432.28,-45.93 438.94,-48.08\"/>\n",
       "</g>\n",
       "<!-- 151 -->\n",
       "<g id=\"node14\" class=\"node\">\n",
       "<title>151</title>\n",
       "<polygon fill=\"#c0c0c0\" stroke=\"black\" points=\"580.62,-36 526.62,-36 526.62,0 580.62,0 580.62,-36\"/>\n",
       "<text text-anchor=\"middle\" x=\"553.62\" y=\"-12.95\" font-family=\"Helvetica,sans-Serif\" font-size=\"14.00\">(...)</text>\n",
       "</g>\n",
       "<!-- 150&#45;&gt;151 -->\n",
       "<g id=\"edge13\" class=\"edge\">\n",
       "<title>150&#45;&gt;151</title>\n",
       "<path fill=\"none\" stroke=\"black\" d=\"M577.03,-71.51C573.41,-63.38 569.46,-54.52 565.86,-46.44\"/>\n",
       "<polygon fill=\"black\" stroke=\"black\" points=\"569.11,-45.14 561.84,-37.43 562.72,-47.99 569.11,-45.14\"/>\n",
       "</g>\n",
       "<!-- 188 -->\n",
       "<g id=\"node15\" class=\"node\">\n",
       "<title>188</title>\n",
       "<polygon fill=\"#c0c0c0\" stroke=\"black\" points=\"652.62,-36 598.62,-36 598.62,0 652.62,0 652.62,-36\"/>\n",
       "<text text-anchor=\"middle\" x=\"625.62\" y=\"-12.95\" font-family=\"Helvetica,sans-Serif\" font-size=\"14.00\">(...)</text>\n",
       "</g>\n",
       "<!-- 150&#45;&gt;188 -->\n",
       "<g id=\"edge14\" class=\"edge\">\n",
       "<title>150&#45;&gt;188</title>\n",
       "<path fill=\"none\" stroke=\"black\" d=\"M602.22,-71.51C605.84,-63.38 609.79,-54.52 613.39,-46.44\"/>\n",
       "<polygon fill=\"black\" stroke=\"black\" points=\"616.53,-47.99 617.41,-37.43 610.14,-45.14 616.53,-47.99\"/>\n",
       "</g>\n",
       "</g>\n",
       "</svg>\n"
      ],
      "text/plain": [
       "<graphviz.sources.Source at 0x2167565d310>"
      ]
     },
     "metadata": {},
     "output_type": "display_data"
    }
   ],
   "source": [
    "tree = dt\n",
    "d_data = export_graphviz(tree, feature_names=X_train.columns,  filled=True,  max_depth=2, impurity=False, proportion=True)\n",
    "graph = graphviz.Source(d_data)\n",
    "display(graph)"
   ]
  },
  {
   "cell_type": "markdown",
   "metadata": {},
   "source": [
    "*******************************************************************\n",
    "Random Forest Algorithm using Diabetes dataset\n",
    "*******************************************************************"
   ]
  },
  {
   "cell_type": "code",
   "execution_count": 15,
   "metadata": {},
   "outputs": [],
   "source": [
    "import pandas as pd\n",
    "import numpy as np\n",
    "\n",
    "\n",
    "from sklearn.ensemble import RandomForestClassifier\n",
    "from sklearn.model_selection import train_test_split\n",
    "from sklearn import metrics\n",
    "\n",
    "from sklearn.model_selection import RandomizedSearchCV\n",
    "from scipy.stats import randint\n"
   ]
  },
  {
   "cell_type": "code",
   "execution_count": 16,
   "metadata": {},
   "outputs": [
    {
     "data": {
      "text/html": [
       "<div>\n",
       "<style scoped>\n",
       "    .dataframe tbody tr th:only-of-type {\n",
       "        vertical-align: middle;\n",
       "    }\n",
       "\n",
       "    .dataframe tbody tr th {\n",
       "        vertical-align: top;\n",
       "    }\n",
       "\n",
       "    .dataframe thead th {\n",
       "        text-align: right;\n",
       "    }\n",
       "</style>\n",
       "<table border=\"1\" class=\"dataframe\">\n",
       "  <thead>\n",
       "    <tr style=\"text-align: right;\">\n",
       "      <th></th>\n",
       "      <th>Pregnancies</th>\n",
       "      <th>Glucose</th>\n",
       "      <th>BloodPressure</th>\n",
       "      <th>SkinThickness</th>\n",
       "      <th>Insulin</th>\n",
       "      <th>BMI</th>\n",
       "      <th>DiabetesPedigreeFunction</th>\n",
       "      <th>Age</th>\n",
       "      <th>Outcome</th>\n",
       "    </tr>\n",
       "  </thead>\n",
       "  <tbody>\n",
       "    <tr>\n",
       "      <th>0</th>\n",
       "      <td>6</td>\n",
       "      <td>148</td>\n",
       "      <td>72</td>\n",
       "      <td>35</td>\n",
       "      <td>0</td>\n",
       "      <td>33.6</td>\n",
       "      <td>0.627</td>\n",
       "      <td>50</td>\n",
       "      <td>1</td>\n",
       "    </tr>\n",
       "    <tr>\n",
       "      <th>1</th>\n",
       "      <td>1</td>\n",
       "      <td>85</td>\n",
       "      <td>66</td>\n",
       "      <td>29</td>\n",
       "      <td>0</td>\n",
       "      <td>26.6</td>\n",
       "      <td>0.351</td>\n",
       "      <td>31</td>\n",
       "      <td>0</td>\n",
       "    </tr>\n",
       "    <tr>\n",
       "      <th>2</th>\n",
       "      <td>8</td>\n",
       "      <td>183</td>\n",
       "      <td>64</td>\n",
       "      <td>0</td>\n",
       "      <td>0</td>\n",
       "      <td>23.3</td>\n",
       "      <td>0.672</td>\n",
       "      <td>32</td>\n",
       "      <td>1</td>\n",
       "    </tr>\n",
       "    <tr>\n",
       "      <th>3</th>\n",
       "      <td>1</td>\n",
       "      <td>89</td>\n",
       "      <td>66</td>\n",
       "      <td>23</td>\n",
       "      <td>94</td>\n",
       "      <td>28.1</td>\n",
       "      <td>0.167</td>\n",
       "      <td>21</td>\n",
       "      <td>0</td>\n",
       "    </tr>\n",
       "    <tr>\n",
       "      <th>4</th>\n",
       "      <td>0</td>\n",
       "      <td>137</td>\n",
       "      <td>40</td>\n",
       "      <td>35</td>\n",
       "      <td>168</td>\n",
       "      <td>43.1</td>\n",
       "      <td>2.288</td>\n",
       "      <td>33</td>\n",
       "      <td>1</td>\n",
       "    </tr>\n",
       "  </tbody>\n",
       "</table>\n",
       "</div>"
      ],
      "text/plain": [
       "   Pregnancies  Glucose  BloodPressure  SkinThickness  Insulin   BMI  \\\n",
       "0            6      148             72             35        0  33.6   \n",
       "1            1       85             66             29        0  26.6   \n",
       "2            8      183             64              0        0  23.3   \n",
       "3            1       89             66             23       94  28.1   \n",
       "4            0      137             40             35      168  43.1   \n",
       "\n",
       "   DiabetesPedigreeFunction  Age  Outcome  \n",
       "0                     0.627   50        1  \n",
       "1                     0.351   31        0  \n",
       "2                     0.672   32        1  \n",
       "3                     0.167   21        0  \n",
       "4                     2.288   33        1  "
      ]
     },
     "execution_count": 16,
     "metadata": {},
     "output_type": "execute_result"
    }
   ],
   "source": [
    "dp = r\"C:\\Users\\anany\\Downloads\\archive (2)\\diabetes.csv\"\n",
    "df = pd.read_csv(dp)\n",
    "df.head()"
   ]
  },
  {
   "cell_type": "code",
   "execution_count": 17,
   "metadata": {},
   "outputs": [],
   "source": [
    "X=df.drop(['Outcome'], axis=1)\n",
    "y=df['Outcome']"
   ]
  },
  {
   "cell_type": "code",
   "execution_count": 18,
   "metadata": {},
   "outputs": [],
   "source": [
    "X_train, X_test, y_train, y_test = train_test_split(X, y, test_size=0.25, random_state=1) "
   ]
  },
  {
   "cell_type": "code",
   "execution_count": 19,
   "metadata": {},
   "outputs": [],
   "source": [
    "rf = RandomForestClassifier()\n",
    "\n",
    "# HYPERPARAMETER TUNING\n",
    "# Using random search to find the best hyperparameters and thus create a more accurate model\n",
    "param_dist = {'n_estimators': randint(50,500),'max_depth': randint(1,20)}\n",
    "rand_search = RandomizedSearchCV(rf, param_distributions = param_dist, n_iter=5, cv=5)\n",
    "\n",
    "\n",
    "rand_search.fit(X_train, y_train)\n",
    "\n",
    "#calling the best model out of all the models created through random search\n",
    "best_rf = rand_search.best_estimator_\n",
    "\n"
   ]
  },
  {
   "cell_type": "code",
   "execution_count": 20,
   "metadata": {},
   "outputs": [],
   "source": [
    "y_pred = best_rf.predict(X_test)"
   ]
  },
  {
   "cell_type": "code",
   "execution_count": 21,
   "metadata": {},
   "outputs": [
    {
     "data": {
      "text/plain": [
       "1.0"
      ]
     },
     "execution_count": 21,
     "metadata": {},
     "output_type": "execute_result"
    }
   ],
   "source": [
    "score = best_rf.score(X_train, y_train)\n",
    "score"
   ]
  },
  {
   "cell_type": "code",
   "execution_count": 22,
   "metadata": {},
   "outputs": [
    {
     "data": {
      "text/plain": [
       "0.8125"
      ]
     },
     "execution_count": 22,
     "metadata": {},
     "output_type": "execute_result"
    }
   ],
   "source": [
    "accuracy = metrics.accuracy_score(y_test, y_pred)\n",
    "accuracy"
   ]
  },
  {
   "cell_type": "code",
   "execution_count": 23,
   "metadata": {},
   "outputs": [
    {
     "data": {
      "text/plain": [
       "0.18557794273594908"
      ]
     },
     "execution_count": 23,
     "metadata": {},
     "output_type": "execute_result"
    }
   ],
   "source": [
    "r2 = metrics.r2_score(y_test, y_pred)\n",
    "r2"
   ]
  },
  {
   "cell_type": "code",
   "execution_count": 24,
   "metadata": {},
   "outputs": [
    {
     "data": {
      "text/plain": [
       "0.7619047619047619"
      ]
     },
     "execution_count": 24,
     "metadata": {},
     "output_type": "execute_result"
    }
   ],
   "source": [
    "precision = metrics.precision_score(y_test, y_pred)\n",
    "precision"
   ]
  },
  {
   "cell_type": "code",
   "execution_count": 25,
   "metadata": {},
   "outputs": [
    {
     "data": {
      "text/plain": [
       "0.6956521739130435"
      ]
     },
     "execution_count": 25,
     "metadata": {},
     "output_type": "execute_result"
    }
   ],
   "source": [
    "recall = metrics.recall_score(y_test, y_pred)\n",
    "recall"
   ]
  },
  {
   "cell_type": "code",
   "execution_count": 26,
   "metadata": {},
   "outputs": [
    {
     "data": {
      "text/plain": [
       "array([[108,  15],\n",
       "       [ 21,  48]], dtype=int64)"
      ]
     },
     "execution_count": 26,
     "metadata": {},
     "output_type": "execute_result"
    }
   ],
   "source": [
    "cnf_matrix = metrics.confusion_matrix(y_test, y_pred) \n",
    "cnf_matrix "
   ]
  },
  {
   "cell_type": "code",
   "execution_count": 27,
   "metadata": {},
   "outputs": [
    {
     "data": {
      "text/plain": [
       "<sklearn.metrics._plot.confusion_matrix.ConfusionMatrixDisplay at 0x216639a3d00>"
      ]
     },
     "execution_count": 27,
     "metadata": {},
     "output_type": "execute_result"
    },
    {
     "data": {
      "image/png": "[encoded data removed]",
      "text/plain": [
       "<Figure size 640x480 with 2 Axes>"
      ]
     },
     "metadata": {},
     "output_type": "display_data"
    }
   ],
   "source": [
    "#displaying confusion matrix\n",
    "metrics.ConfusionMatrixDisplay(confusion_matrix=cnf_matrix).plot()"
   ]
  },
  {
   "cell_type": "markdown",
   "metadata": {},
   "source": [
    "VISUALIZING MODEL USING GRAPHVIZ"
   ]
  },
  {
   "cell_type": "code",
   "execution_count": 28,
   "metadata": {},
   "outputs": [],
   "source": [
    "from sklearn.tree import export_graphviz\n",
    "from IPython.display import Image\n",
    "import graphviz\n",
    "\n",
    "import os\n",
    "os.environ[\"PATH\"] += os.pathsep + r\"C:\\Users\\anany\\Downloads\\windows_10_msbuild_Release_graphviz-9.0.0-win32\\Graphviz\\bin\"\n"
   ]
  },
  {
   "cell_type": "code",
   "execution_count": 29,
   "metadata": {},
   "outputs": [
    {
     "data": {
      "image/svg+xml": [
       "<?xml version=\"1.0\" encoding=\"UTF-8\" standalone=\"no\"?>\n",
       "<!DOCTYPE svg PUBLIC \"-//W3C//DTD SVG 1.1//EN\"\n",
       " \"http://www.w3.org/Graphics/SVG/1.1/DTD/svg11.dtd\">\n",
       "<!-- Generated by graphviz version 9.0.0 (20230911.1827)\n",
       " -->\n",
       "<!-- Title: Tree Pages: 1 -->\n",
       "<svg width=\"703pt\" height=\"325pt\"\n",
       " viewBox=\"0.00 0.00 703.25 324.50\" xmlns=\"http://www.w3.org/2000/svg\" xmlns:xlink=\"http://www.w3.org/1999/xlink\">\n",
       "<g id=\"graph0\" class=\"graph\" transform=\"scale(1 1) rotate(0) translate(4 320.5)\">\n",
       "<title>Tree</title>\n",
       "<polygon fill=\"white\" stroke=\"none\" points=\"-4,4 -4,-320.5 699.25,-320.5 699.25,4 -4,4\"/>\n",
       "<!-- 0 -->\n",
       "<g id=\"node1\" class=\"node\">\n",
       "<title>0</title>\n",
       "<polygon fill=\"#f3c5a4\" stroke=\"black\" points=\"426.25,-316.5 273,-316.5 273,-259 426.25,-259 426.25,-316.5\"/>\n",
       "<text text-anchor=\"middle\" x=\"349.62\" y=\"-299.2\" font-family=\"Helvetica,sans-Serif\" font-size=\"14.00\">Glucose &lt;= 118.5</text>\n",
       "<text text-anchor=\"middle\" x=\"349.62\" y=\"-282.7\" font-family=\"Helvetica,sans-Serif\" font-size=\"14.00\">samples = 100.0%</text>\n",
       "<text text-anchor=\"middle\" x=\"349.62\" y=\"-266.2\" font-family=\"Helvetica,sans-Serif\" font-size=\"14.00\">value = [0.649, 0.351]</text>\n",
       "</g>\n",
       "<!-- 1 -->\n",
       "<g id=\"node2\" class=\"node\">\n",
       "<title>1</title>\n",
       "<polygon fill=\"#ea985e\" stroke=\"black\" points=\"367.75,-223 121.5,-223 121.5,-165.5 367.75,-165.5 367.75,-223\"/>\n",
       "<text text-anchor=\"middle\" x=\"244.62\" y=\"-205.7\" font-family=\"Helvetica,sans-Serif\" font-size=\"14.00\">DiabetesPedigreeFunction &lt;= 0.663</text>\n",
       "<text text-anchor=\"middle\" x=\"244.62\" y=\"-189.2\" font-family=\"Helvetica,sans-Serif\" font-size=\"14.00\">samples = 51.7%</text>\n",
       "<text text-anchor=\"middle\" x=\"244.62\" y=\"-172.7\" font-family=\"Helvetica,sans-Serif\" font-size=\"14.00\">value = [0.843, 0.157]</text>\n",
       "</g>\n",
       "<!-- 0&#45;&gt;1 -->\n",
       "<g id=\"edge1\" class=\"edge\">\n",
       "<title>0&#45;&gt;1</title>\n",
       "<path fill=\"none\" stroke=\"black\" d=\"M317.26,-258.55C307.09,-249.68 295.73,-239.78 285.06,-230.49\"/>\n",
       "<polygon fill=\"black\" stroke=\"black\" points=\"287.68,-228.12 277.84,-224.19 283.08,-233.4 287.68,-228.12\"/>\n",
       "<text text-anchor=\"middle\" x=\"278.41\" y=\"-243.09\" font-family=\"Helvetica,sans-Serif\" font-size=\"14.00\">True</text>\n",
       "</g>\n",
       "<!-- 82 -->\n",
       "<g id=\"node9\" class=\"node\">\n",
       "<title>82</title>\n",
       "<polygon fill=\"#c9e4f8\" stroke=\"black\" points=\"525.5,-223 385.75,-223 385.75,-165.5 525.5,-165.5 525.5,-223\"/>\n",
       "<text text-anchor=\"middle\" x=\"455.62\" y=\"-205.7\" font-family=\"Helvetica,sans-Serif\" font-size=\"14.00\">Pregnancies &lt;= 7.5</text>\n",
       "<text text-anchor=\"middle\" x=\"455.62\" y=\"-189.2\" font-family=\"Helvetica,sans-Serif\" font-size=\"14.00\">samples = 48.3%</text>\n",
       "<text text-anchor=\"middle\" x=\"455.62\" y=\"-172.7\" font-family=\"Helvetica,sans-Serif\" font-size=\"14.00\">value = [0.42, 0.58]</text>\n",
       "</g>\n",
       "<!-- 0&#45;&gt;82 -->\n",
       "<g id=\"edge8\" class=\"edge\">\n",
       "<title>0&#45;&gt;82</title>\n",
       "<path fill=\"none\" stroke=\"black\" d=\"M382.29,-258.55C392.57,-249.68 404.04,-239.78 414.8,-230.49\"/>\n",
       "<polygon fill=\"black\" stroke=\"black\" points=\"416.82,-233.37 422.1,-224.19 412.24,-228.07 416.82,-233.37\"/>\n",
       "<text text-anchor=\"middle\" x=\"421.42\" y=\"-243.08\" font-family=\"Helvetica,sans-Serif\" font-size=\"14.00\">False</text>\n",
       "</g>\n",
       "<!-- 2 -->\n",
       "<g id=\"node3\" class=\"node\">\n",
       "<title>2</title>\n",
       "<polygon fill=\"#e89153\" stroke=\"black\" points=\"153.25,-129.5 0,-129.5 0,-72 153.25,-72 153.25,-129.5\"/>\n",
       "<text text-anchor=\"middle\" x=\"76.62\" y=\"-112.2\" font-family=\"Helvetica,sans-Serif\" font-size=\"14.00\">BMI &lt;= 41.95</text>\n",
       "<text text-anchor=\"middle\" x=\"76.62\" y=\"-95.7\" font-family=\"Helvetica,sans-Serif\" font-size=\"14.00\">samples = 41.5%</text>\n",
       "<text text-anchor=\"middle\" x=\"76.62\" y=\"-79.2\" font-family=\"Helvetica,sans-Serif\" font-size=\"14.00\">value = [0.885, 0.115]</text>\n",
       "</g>\n",
       "<!-- 1&#45;&gt;2 -->\n",
       "<g id=\"edge2\" class=\"edge\">\n",
       "<title>1&#45;&gt;2</title>\n",
       "<path fill=\"none\" stroke=\"black\" d=\"M192.85,-165.05C175.6,-155.66 156.22,-145.1 138.3,-135.34\"/>\n",
       "<polygon fill=\"black\" stroke=\"black\" points=\"140.02,-132.29 129.56,-130.58 136.67,-138.44 140.02,-132.29\"/>\n",
       "</g>\n",
       "<!-- 59 -->\n",
       "<g id=\"node6\" class=\"node\">\n",
       "<title>59</title>\n",
       "<polygon fill=\"#f2c09c\" stroke=\"black\" points=\"335.5,-129.5 171.75,-129.5 171.75,-72 335.5,-72 335.5,-129.5\"/>\n",
       "<text text-anchor=\"middle\" x=\"253.62\" y=\"-112.2\" font-family=\"Helvetica,sans-Serif\" font-size=\"14.00\">BloodPressure &lt;= 61.0</text>\n",
       "<text text-anchor=\"middle\" x=\"253.62\" y=\"-95.7\" font-family=\"Helvetica,sans-Serif\" font-size=\"14.00\">samples = 10.2%</text>\n",
       "<text text-anchor=\"middle\" x=\"253.62\" y=\"-79.2\" font-family=\"Helvetica,sans-Serif\" font-size=\"14.00\">value = [0.667, 0.333]</text>\n",
       "</g>\n",
       "<!-- 1&#45;&gt;59 -->\n",
       "<g id=\"edge5\" class=\"edge\">\n",
       "<title>1&#45;&gt;59</title>\n",
       "<path fill=\"none\" stroke=\"black\" d=\"M247.37,-165.3C248.13,-157.66 248.96,-149.23 249.76,-141.07\"/>\n",
       "<polygon fill=\"black\" stroke=\"black\" points=\"253.22,-141.65 250.71,-131.35 246.25,-140.96 253.22,-141.65\"/>\n",
       "</g>\n",
       "<!-- 3 -->\n",
       "<g id=\"node4\" class=\"node\">\n",
       "<title>3</title>\n",
       "<polygon fill=\"#c0c0c0\" stroke=\"black\" points=\"67.62,-36 13.62,-36 13.62,0 67.62,0 67.62,-36\"/>\n",
       "<text text-anchor=\"middle\" x=\"40.62\" y=\"-12.95\" font-family=\"Helvetica,sans-Serif\" font-size=\"14.00\">(...)</text>\n",
       "</g>\n",
       "<!-- 2&#45;&gt;3 -->\n",
       "<g id=\"edge3\" class=\"edge\">\n",
       "<title>2&#45;&gt;3</title>\n",
       "<path fill=\"none\" stroke=\"black\" d=\"M64.03,-71.51C60.41,-63.38 56.46,-54.52 52.86,-46.44\"/>\n",
       "<polygon fill=\"black\" stroke=\"black\" points=\"56.11,-45.14 48.84,-37.43 49.72,-47.99 56.11,-45.14\"/>\n",
       "</g>\n",
       "<!-- 54 -->\n",
       "<g id=\"node5\" class=\"node\">\n",
       "<title>54</title>\n",
       "<polygon fill=\"#c0c0c0\" stroke=\"black\" points=\"139.62,-36 85.62,-36 85.62,0 139.62,0 139.62,-36\"/>\n",
       "<text text-anchor=\"middle\" x=\"112.62\" y=\"-12.95\" font-family=\"Helvetica,sans-Serif\" font-size=\"14.00\">(...)</text>\n",
       "</g>\n",
       "<!-- 2&#45;&gt;54 -->\n",
       "<g id=\"edge4\" class=\"edge\">\n",
       "<title>2&#45;&gt;54</title>\n",
       "<path fill=\"none\" stroke=\"black\" d=\"M89.22,-71.51C92.84,-63.38 96.79,-54.52 100.39,-46.44\"/>\n",
       "<polygon fill=\"black\" stroke=\"black\" points=\"103.53,-47.99 104.41,-37.43 97.14,-45.14 103.53,-47.99\"/>\n",
       "</g>\n",
       "<!-- 60 -->\n",
       "<g id=\"node7\" class=\"node\">\n",
       "<title>60</title>\n",
       "<polygon fill=\"#c0c0c0\" stroke=\"black\" points=\"262.62,-36 208.62,-36 208.62,0 262.62,0 262.62,-36\"/>\n",
       "<text text-anchor=\"middle\" x=\"235.62\" y=\"-12.95\" font-family=\"Helvetica,sans-Serif\" font-size=\"14.00\">(...)</text>\n",
       "</g>\n",
       "<!-- 59&#45;&gt;60 -->\n",
       "<g id=\"edge6\" class=\"edge\">\n",
       "<title>59&#45;&gt;60</title>\n",
       "<path fill=\"none\" stroke=\"black\" d=\"M247.33,-71.51C245.58,-63.66 243.68,-55.13 241.93,-47.27\"/>\n",
       "<polygon fill=\"black\" stroke=\"black\" points=\"245.35,-46.52 239.75,-37.52 238.51,-48.04 245.35,-46.52\"/>\n",
       "</g>\n",
       "<!-- 61 -->\n",
       "<g id=\"node8\" class=\"node\">\n",
       "<title>61</title>\n",
       "<polygon fill=\"#c0c0c0\" stroke=\"black\" points=\"334.62,-36 280.62,-36 280.62,0 334.62,0 334.62,-36\"/>\n",
       "<text text-anchor=\"middle\" x=\"307.62\" y=\"-12.95\" font-family=\"Helvetica,sans-Serif\" font-size=\"14.00\">(...)</text>\n",
       "</g>\n",
       "<!-- 59&#45;&gt;61 -->\n",
       "<g id=\"edge7\" class=\"edge\">\n",
       "<title>59&#45;&gt;61</title>\n",
       "<path fill=\"none\" stroke=\"black\" d=\"M272.51,-71.51C278.2,-63.01 284.41,-53.72 290.01,-45.35\"/>\n",
       "<polygon fill=\"black\" stroke=\"black\" points=\"292.74,-47.56 295.39,-37.3 286.92,-43.67 292.74,-47.56\"/>\n",
       "</g>\n",
       "<!-- 83 -->\n",
       "<g id=\"node10\" class=\"node\">\n",
       "<title>83</title>\n",
       "<polygon fill=\"#e3f1fb\" stroke=\"black\" points=\"524.25,-129.5 371,-129.5 371,-72 524.25,-72 524.25,-129.5\"/>\n",
       "<text text-anchor=\"middle\" x=\"447.62\" y=\"-112.2\" font-family=\"Helvetica,sans-Serif\" font-size=\"14.00\">Glucose &lt;= 161.5</text>\n",
       "<text text-anchor=\"middle\" x=\"447.62\" y=\"-95.7\" font-family=\"Helvetica,sans-Serif\" font-size=\"14.00\">samples = 36.4%</text>\n",
       "<text text-anchor=\"middle\" x=\"447.62\" y=\"-79.2\" font-family=\"Helvetica,sans-Serif\" font-size=\"14.00\">value = [0.462, 0.538]</text>\n",
       "</g>\n",
       "<!-- 82&#45;&gt;83 -->\n",
       "<g id=\"edge9\" class=\"edge\">\n",
       "<title>82&#45;&gt;83</title>\n",
       "<path fill=\"none\" stroke=\"black\" d=\"M453.18,-165.3C452.51,-157.66 451.78,-149.23 451.06,-141.07\"/>\n",
       "<polygon fill=\"black\" stroke=\"black\" points=\"454.57,-141.01 450.21,-131.35 447.6,-141.62 454.57,-141.01\"/>\n",
       "</g>\n",
       "<!-- 184 -->\n",
       "<g id=\"node13\" class=\"node\">\n",
       "<title>184</title>\n",
       "<polygon fill=\"#90c8f0\" stroke=\"black\" points=\"695.25,-129.5 542,-129.5 542,-72 695.25,-72 695.25,-129.5\"/>\n",
       "<text text-anchor=\"middle\" x=\"618.62\" y=\"-112.2\" font-family=\"Helvetica,sans-Serif\" font-size=\"14.00\">BMI &lt;= 33.25</text>\n",
       "<text text-anchor=\"middle\" x=\"618.62\" y=\"-95.7\" font-family=\"Helvetica,sans-Serif\" font-size=\"14.00\">samples = 11.9%</text>\n",
       "<text text-anchor=\"middle\" x=\"618.62\" y=\"-79.2\" font-family=\"Helvetica,sans-Serif\" font-size=\"14.00\">value = [0.304, 0.696]</text>\n",
       "</g>\n",
       "<!-- 82&#45;&gt;184 -->\n",
       "<g id=\"edge12\" class=\"edge\">\n",
       "<title>82&#45;&gt;184</title>\n",
       "<path fill=\"none\" stroke=\"black\" d=\"M505.86,-165.05C522.52,-155.7 541.22,-145.2 558.54,-135.48\"/>\n",
       "<polygon fill=\"black\" stroke=\"black\" points=\"560.23,-138.54 567.24,-130.6 556.8,-132.44 560.23,-138.54\"/>\n",
       "</g>\n",
       "<!-- 84 -->\n",
       "<g id=\"node11\" class=\"node\">\n",
       "<title>84</title>\n",
       "<polygon fill=\"#c0c0c0\" stroke=\"black\" points=\"434.62,-36 380.62,-36 380.62,0 434.62,0 434.62,-36\"/>\n",
       "<text text-anchor=\"middle\" x=\"407.62\" y=\"-12.95\" font-family=\"Helvetica,sans-Serif\" font-size=\"14.00\">(...)</text>\n",
       "</g>\n",
       "<!-- 83&#45;&gt;84 -->\n",
       "<g id=\"edge10\" class=\"edge\">\n",
       "<title>83&#45;&gt;84</title>\n",
       "<path fill=\"none\" stroke=\"black\" d=\"M433.63,-71.51C429.56,-63.29 425.12,-54.32 421.08,-46.17\"/>\n",
       "<polygon fill=\"black\" stroke=\"black\" points=\"424.32,-44.81 416.74,-37.4 418.04,-47.92 424.32,-44.81\"/>\n",
       "</g>\n",
       "<!-- 169 -->\n",
       "<g id=\"node12\" class=\"node\">\n",
       "<title>169</title>\n",
       "<polygon fill=\"#c0c0c0\" stroke=\"black\" points=\"506.62,-36 452.62,-36 452.62,0 506.62,0 506.62,-36\"/>\n",
       "<text text-anchor=\"middle\" x=\"479.62\" y=\"-12.95\" font-family=\"Helvetica,sans-Serif\" font-size=\"14.00\">(...)</text>\n",
       "</g>\n",
       "<!-- 83&#45;&gt;169 -->\n",
       "<g id=\"edge11\" class=\"edge\">\n",
       "<title>83&#45;&gt;169</title>\n",
       "<path fill=\"none\" stroke=\"black\" d=\"M458.82,-71.51C462,-63.47 465.47,-54.73 468.64,-46.72\"/>\n",
       "<polygon fill=\"black\" stroke=\"black\" points=\"471.88,-48.04 472.31,-37.45 465.37,-45.46 471.88,-48.04\"/>\n",
       "</g>\n",
       "<!-- 185 -->\n",
       "<g id=\"node14\" class=\"node\">\n",
       "<title>185</title>\n",
       "<polygon fill=\"#c0c0c0\" stroke=\"black\" points=\"591.62,-36 537.62,-36 537.62,0 591.62,0 591.62,-36\"/>\n",
       "<text text-anchor=\"middle\" x=\"564.62\" y=\"-12.95\" font-family=\"Helvetica,sans-Serif\" font-size=\"14.00\">(...)</text>\n",
       "</g>\n",
       "<!-- 184&#45;&gt;185 -->\n",
       "<g id=\"edge13\" class=\"edge\">\n",
       "<title>184&#45;&gt;185</title>\n",
       "<path fill=\"none\" stroke=\"black\" d=\"M599.74,-71.51C594.05,-63.01 587.84,-53.72 582.24,-45.35\"/>\n",
       "<polygon fill=\"black\" stroke=\"black\" points=\"585.33,-43.67 576.86,-37.3 579.51,-47.56 585.33,-43.67\"/>\n",
       "</g>\n",
       "<!-- 194 -->\n",
       "<g id=\"node15\" class=\"node\">\n",
       "<title>194</title>\n",
       "<polygon fill=\"#c0c0c0\" stroke=\"black\" points=\"663.62,-36 609.62,-36 609.62,0 663.62,0 663.62,-36\"/>\n",
       "<text text-anchor=\"middle\" x=\"636.62\" y=\"-12.95\" font-family=\"Helvetica,sans-Serif\" font-size=\"14.00\">(...)</text>\n",
       "</g>\n",
       "<!-- 184&#45;&gt;194 -->\n",
       "<g id=\"edge14\" class=\"edge\">\n",
       "<title>184&#45;&gt;194</title>\n",
       "<path fill=\"none\" stroke=\"black\" d=\"M624.92,-71.51C626.67,-63.66 628.57,-55.13 630.32,-47.27\"/>\n",
       "<polygon fill=\"black\" stroke=\"black\" points=\"633.74,-48.04 632.5,-37.52 626.9,-46.52 633.74,-48.04\"/>\n",
       "</g>\n",
       "</g>\n",
       "</svg>\n"
      ],
      "text/plain": [
       "<graphviz.sources.Source at 0x2167553a5b0>"
      ]
     },
     "metadata": {},
     "output_type": "display_data"
    },
    {
     "data": {
      "image/svg+xml": [
       "<?xml version=\"1.0\" encoding=\"UTF-8\" standalone=\"no\"?>\n",
       "<!DOCTYPE svg PUBLIC \"-//W3C//DTD SVG 1.1//EN\"\n",
       " \"http://www.w3.org/Graphics/SVG/1.1/DTD/svg11.dtd\">\n",
       "<!-- Generated by graphviz version 9.0.0 (20230911.1827)\n",
       " -->\n",
       "<!-- Title: Tree Pages: 1 -->\n",
       "<svg width=\"742pt\" height=\"325pt\"\n",
       " viewBox=\"0.00 0.00 741.62 324.50\" xmlns=\"http://www.w3.org/2000/svg\" xmlns:xlink=\"http://www.w3.org/1999/xlink\">\n",
       "<g id=\"graph0\" class=\"graph\" transform=\"scale(1 1) rotate(0) translate(4 320.5)\">\n",
       "<title>Tree</title>\n",
       "<polygon fill=\"white\" stroke=\"none\" points=\"-4,4 -4,-320.5 737.62,-320.5 737.62,4 -4,4\"/>\n",
       "<!-- 0 -->\n",
       "<g id=\"node1\" class=\"node\">\n",
       "<title>0</title>\n",
       "<polygon fill=\"#f1bd97\" stroke=\"black\" points=\"383.12,-316.5 229.88,-316.5 229.88,-259 383.12,-259 383.12,-316.5\"/>\n",
       "<text text-anchor=\"middle\" x=\"306.5\" y=\"-299.2\" font-family=\"Helvetica,sans-Serif\" font-size=\"14.00\">BMI &lt;= 26.45</text>\n",
       "<text text-anchor=\"middle\" x=\"306.5\" y=\"-282.7\" font-family=\"Helvetica,sans-Serif\" font-size=\"14.00\">samples = 100.0%</text>\n",
       "<text text-anchor=\"middle\" x=\"306.5\" y=\"-266.2\" font-family=\"Helvetica,sans-Serif\" font-size=\"14.00\">value = [0.679, 0.321]</text>\n",
       "</g>\n",
       "<!-- 1 -->\n",
       "<g id=\"node2\" class=\"node\">\n",
       "<title>1</title>\n",
       "<polygon fill=\"#e78a48\" stroke=\"black\" points=\"298.12,-223 144.88,-223 144.88,-165.5 298.12,-165.5 298.12,-223\"/>\n",
       "<text text-anchor=\"middle\" x=\"221.5\" y=\"-205.7\" font-family=\"Helvetica,sans-Serif\" font-size=\"14.00\">Age &lt;= 50.5</text>\n",
       "<text text-anchor=\"middle\" x=\"221.5\" y=\"-189.2\" font-family=\"Helvetica,sans-Serif\" font-size=\"14.00\">samples = 22.7%</text>\n",
       "<text text-anchor=\"middle\" x=\"221.5\" y=\"-172.7\" font-family=\"Helvetica,sans-Serif\" font-size=\"14.00\">value = [0.932, 0.068]</text>\n",
       "</g>\n",
       "<!-- 0&#45;&gt;1 -->\n",
       "<g id=\"edge1\" class=\"edge\">\n",
       "<title>0&#45;&gt;1</title>\n",
       "<path fill=\"none\" stroke=\"black\" d=\"M280.54,-258.8C272.62,-250.28 263.79,-240.78 255.43,-231.77\"/>\n",
       "<polygon fill=\"black\" stroke=\"black\" points=\"258,-229.4 248.63,-224.45 252.87,-234.16 258,-229.4\"/>\n",
       "<text text-anchor=\"middle\" x=\"246.68\" y=\"-243.28\" font-family=\"Helvetica,sans-Serif\" font-size=\"14.00\">True</text>\n",
       "</g>\n",
       "<!-- 20 -->\n",
       "<g id=\"node7\" class=\"node\">\n",
       "<title>20</title>\n",
       "<polygon fill=\"#f7d7c1\" stroke=\"black\" points=\"469.12,-223 315.88,-223 315.88,-165.5 469.12,-165.5 469.12,-223\"/>\n",
       "<text text-anchor=\"middle\" x=\"392.5\" y=\"-205.7\" font-family=\"Helvetica,sans-Serif\" font-size=\"14.00\">Pregnancies &lt;= 6.5</text>\n",
       "<text text-anchor=\"middle\" x=\"392.5\" y=\"-189.2\" font-family=\"Helvetica,sans-Serif\" font-size=\"14.00\">samples = 77.3%</text>\n",
       "<text text-anchor=\"middle\" x=\"392.5\" y=\"-172.7\" font-family=\"Helvetica,sans-Serif\" font-size=\"14.00\">value = [0.593, 0.407]</text>\n",
       "</g>\n",
       "<!-- 0&#45;&gt;20 -->\n",
       "<g id=\"edge6\" class=\"edge\">\n",
       "<title>0&#45;&gt;20</title>\n",
       "<path fill=\"none\" stroke=\"black\" d=\"M332.77,-258.8C340.86,-250.19 349.89,-240.58 358.43,-231.5\"/>\n",
       "<polygon fill=\"black\" stroke=\"black\" points=\"360.76,-234.13 365.06,-224.45 355.66,-229.34 360.76,-234.13\"/>\n",
       "<text text-anchor=\"middle\" x=\"366.87\" y=\"-243.28\" font-family=\"Helvetica,sans-Serif\" font-size=\"14.00\">False</text>\n",
       "</g>\n",
       "<!-- 2 -->\n",
       "<g id=\"node3\" class=\"node\">\n",
       "<title>2</title>\n",
       "<polygon fill=\"#e58139\" stroke=\"black\" points=\"127,-121.25 0,-121.25 0,-80.25 127,-80.25 127,-121.25\"/>\n",
       "<text text-anchor=\"middle\" x=\"63.5\" y=\"-103.95\" font-family=\"Helvetica,sans-Serif\" font-size=\"14.00\">samples = 18.6%</text>\n",
       "<text text-anchor=\"middle\" x=\"63.5\" y=\"-87.45\" font-family=\"Helvetica,sans-Serif\" font-size=\"14.00\">value = [1.0, 0.0]</text>\n",
       "</g>\n",
       "<!-- 1&#45;&gt;2 -->\n",
       "<g id=\"edge2\" class=\"edge\">\n",
       "<title>1&#45;&gt;2</title>\n",
       "<path fill=\"none\" stroke=\"black\" d=\"M172.81,-165.05C152.02,-153.01 127.93,-139.06 107.67,-127.33\"/>\n",
       "<polygon fill=\"black\" stroke=\"black\" points=\"109.47,-124.33 99.07,-122.35 105.97,-130.39 109.47,-124.33\"/>\n",
       "</g>\n",
       "<!-- 3 -->\n",
       "<g id=\"node4\" class=\"node\">\n",
       "<title>3</title>\n",
       "<polygon fill=\"#f1bd97\" stroke=\"black\" points=\"298.12,-129.5 144.88,-129.5 144.88,-72 298.12,-72 298.12,-129.5\"/>\n",
       "<text text-anchor=\"middle\" x=\"221.5\" y=\"-112.2\" font-family=\"Helvetica,sans-Serif\" font-size=\"14.00\">Pregnancies &lt;= 3.0</text>\n",
       "<text text-anchor=\"middle\" x=\"221.5\" y=\"-95.7\" font-family=\"Helvetica,sans-Serif\" font-size=\"14.00\">samples = 4.1%</text>\n",
       "<text text-anchor=\"middle\" x=\"221.5\" y=\"-79.2\" font-family=\"Helvetica,sans-Serif\" font-size=\"14.00\">value = [0.677, 0.323]</text>\n",
       "</g>\n",
       "<!-- 1&#45;&gt;3 -->\n",
       "<g id=\"edge3\" class=\"edge\">\n",
       "<title>1&#45;&gt;3</title>\n",
       "<path fill=\"none\" stroke=\"black\" d=\"M221.5,-165.3C221.5,-157.74 221.5,-149.42 221.5,-141.35\"/>\n",
       "<polygon fill=\"black\" stroke=\"black\" points=\"225,-141.36 221.5,-131.36 218,-141.36 225,-141.36\"/>\n",
       "</g>\n",
       "<!-- 4 -->\n",
       "<g id=\"node5\" class=\"node\">\n",
       "<title>4</title>\n",
       "<polygon fill=\"#c0c0c0\" stroke=\"black\" points=\"212.5,-36 158.5,-36 158.5,0 212.5,0 212.5,-36\"/>\n",
       "<text text-anchor=\"middle\" x=\"185.5\" y=\"-12.95\" font-family=\"Helvetica,sans-Serif\" font-size=\"14.00\">(...)</text>\n",
       "</g>\n",
       "<!-- 3&#45;&gt;4 -->\n",
       "<g id=\"edge4\" class=\"edge\">\n",
       "<title>3&#45;&gt;4</title>\n",
       "<path fill=\"none\" stroke=\"black\" d=\"M208.91,-71.51C205.28,-63.38 201.34,-54.52 197.74,-46.44\"/>\n",
       "<polygon fill=\"black\" stroke=\"black\" points=\"200.98,-45.14 193.72,-37.43 194.59,-47.99 200.98,-45.14\"/>\n",
       "</g>\n",
       "<!-- 5 -->\n",
       "<g id=\"node6\" class=\"node\">\n",
       "<title>5</title>\n",
       "<polygon fill=\"#c0c0c0\" stroke=\"black\" points=\"284.5,-36 230.5,-36 230.5,0 284.5,0 284.5,-36\"/>\n",
       "<text text-anchor=\"middle\" x=\"257.5\" y=\"-12.95\" font-family=\"Helvetica,sans-Serif\" font-size=\"14.00\">(...)</text>\n",
       "</g>\n",
       "<!-- 3&#45;&gt;5 -->\n",
       "<g id=\"edge5\" class=\"edge\">\n",
       "<title>3&#45;&gt;5</title>\n",
       "<path fill=\"none\" stroke=\"black\" d=\"M234.09,-71.51C237.72,-63.38 241.66,-54.52 245.26,-46.44\"/>\n",
       "<polygon fill=\"black\" stroke=\"black\" points=\"248.41,-47.99 249.28,-37.43 242.02,-45.14 248.41,-47.99\"/>\n",
       "</g>\n",
       "<!-- 21 -->\n",
       "<g id=\"node8\" class=\"node\">\n",
       "<title>21</title>\n",
       "<polygon fill=\"#f3c3a0\" stroke=\"black\" points=\"469.12,-129.5 315.88,-129.5 315.88,-72 469.12,-72 469.12,-129.5\"/>\n",
       "<text text-anchor=\"middle\" x=\"392.5\" y=\"-112.2\" font-family=\"Helvetica,sans-Serif\" font-size=\"14.00\">Glucose &lt;= 123.5</text>\n",
       "<text text-anchor=\"middle\" x=\"392.5\" y=\"-95.7\" font-family=\"Helvetica,sans-Serif\" font-size=\"14.00\">samples = 59.2%</text>\n",
       "<text text-anchor=\"middle\" x=\"392.5\" y=\"-79.2\" font-family=\"Helvetica,sans-Serif\" font-size=\"14.00\">value = [0.658, 0.342]</text>\n",
       "</g>\n",
       "<!-- 20&#45;&gt;21 -->\n",
       "<g id=\"edge7\" class=\"edge\">\n",
       "<title>20&#45;&gt;21</title>\n",
       "<path fill=\"none\" stroke=\"black\" d=\"M392.5,-165.3C392.5,-157.74 392.5,-149.42 392.5,-141.35\"/>\n",
       "<polygon fill=\"black\" stroke=\"black\" points=\"396,-141.36 392.5,-131.36 389,-141.36 396,-141.36\"/>\n",
       "</g>\n",
       "<!-- 148 -->\n",
       "<g id=\"node11\" class=\"node\">\n",
       "<title>148</title>\n",
       "<polygon fill=\"#a9d5f4\" stroke=\"black\" points=\"733.62,-129.5 487.38,-129.5 487.38,-72 733.62,-72 733.62,-129.5\"/>\n",
       "<text text-anchor=\"middle\" x=\"610.5\" y=\"-112.2\" font-family=\"Helvetica,sans-Serif\" font-size=\"14.00\">DiabetesPedigreeFunction &lt;= 0.396</text>\n",
       "<text text-anchor=\"middle\" x=\"610.5\" y=\"-95.7\" font-family=\"Helvetica,sans-Serif\" font-size=\"14.00\">samples = 18.1%</text>\n",
       "<text text-anchor=\"middle\" x=\"610.5\" y=\"-79.2\" font-family=\"Helvetica,sans-Serif\" font-size=\"14.00\">value = [0.362, 0.638]</text>\n",
       "</g>\n",
       "<!-- 20&#45;&gt;148 -->\n",
       "<g id=\"edge10\" class=\"edge\">\n",
       "<title>20&#45;&gt;148</title>\n",
       "<path fill=\"none\" stroke=\"black\" d=\"M459.69,-165.05C482.9,-155.31 509.09,-144.31 533.06,-134.25\"/>\n",
       "<polygon fill=\"black\" stroke=\"black\" points=\"534.27,-137.54 542.14,-130.44 531.56,-131.09 534.27,-137.54\"/>\n",
       "</g>\n",
       "<!-- 22 -->\n",
       "<g id=\"node9\" class=\"node\">\n",
       "<title>22</title>\n",
       "<polygon fill=\"#c0c0c0\" stroke=\"black\" points=\"406.5,-36 352.5,-36 352.5,0 406.5,0 406.5,-36\"/>\n",
       "<text text-anchor=\"middle\" x=\"379.5\" y=\"-12.95\" font-family=\"Helvetica,sans-Serif\" font-size=\"14.00\">(...)</text>\n",
       "</g>\n",
       "<!-- 21&#45;&gt;22 -->\n",
       "<g id=\"edge8\" class=\"edge\">\n",
       "<title>21&#45;&gt;22</title>\n",
       "<path fill=\"none\" stroke=\"black\" d=\"M387.95,-71.51C386.69,-63.66 385.32,-55.13 384.05,-47.27\"/>\n",
       "<polygon fill=\"black\" stroke=\"black\" points=\"387.53,-46.86 382.48,-37.54 380.62,-47.97 387.53,-46.86\"/>\n",
       "</g>\n",
       "<!-- 91 -->\n",
       "<g id=\"node10\" class=\"node\">\n",
       "<title>91</title>\n",
       "<polygon fill=\"#c0c0c0\" stroke=\"black\" points=\"478.5,-36 424.5,-36 424.5,0 478.5,0 478.5,-36\"/>\n",
       "<text text-anchor=\"middle\" x=\"451.5\" y=\"-12.95\" font-family=\"Helvetica,sans-Serif\" font-size=\"14.00\">(...)</text>\n",
       "</g>\n",
       "<!-- 21&#45;&gt;91 -->\n",
       "<g id=\"edge9\" class=\"edge\">\n",
       "<title>21&#45;&gt;91</title>\n",
       "<path fill=\"none\" stroke=\"black\" d=\"M413.14,-71.51C419.41,-62.92 426.28,-53.52 432.45,-45.07\"/>\n",
       "<polygon fill=\"black\" stroke=\"black\" points=\"435.08,-47.41 438.15,-37.27 429.43,-43.28 435.08,-47.41\"/>\n",
       "</g>\n",
       "<!-- 149 -->\n",
       "<g id=\"node12\" class=\"node\">\n",
       "<title>149</title>\n",
       "<polygon fill=\"#c0c0c0\" stroke=\"black\" points=\"601.5,-36 547.5,-36 547.5,0 601.5,0 601.5,-36\"/>\n",
       "<text text-anchor=\"middle\" x=\"574.5\" y=\"-12.95\" font-family=\"Helvetica,sans-Serif\" font-size=\"14.00\">(...)</text>\n",
       "</g>\n",
       "<!-- 148&#45;&gt;149 -->\n",
       "<g id=\"edge11\" class=\"edge\">\n",
       "<title>148&#45;&gt;149</title>\n",
       "<path fill=\"none\" stroke=\"black\" d=\"M597.91,-71.51C594.28,-63.38 590.34,-54.52 586.74,-46.44\"/>\n",
       "<polygon fill=\"black\" stroke=\"black\" points=\"589.98,-45.14 582.72,-37.43 583.59,-47.99 589.98,-45.14\"/>\n",
       "</g>\n",
       "<!-- 170 -->\n",
       "<g id=\"node13\" class=\"node\">\n",
       "<title>170</title>\n",
       "<polygon fill=\"#c0c0c0\" stroke=\"black\" points=\"673.5,-36 619.5,-36 619.5,0 673.5,0 673.5,-36\"/>\n",
       "<text text-anchor=\"middle\" x=\"646.5\" y=\"-12.95\" font-family=\"Helvetica,sans-Serif\" font-size=\"14.00\">(...)</text>\n",
       "</g>\n",
       "<!-- 148&#45;&gt;170 -->\n",
       "<g id=\"edge12\" class=\"edge\">\n",
       "<title>148&#45;&gt;170</title>\n",
       "<path fill=\"none\" stroke=\"black\" d=\"M623.09,-71.51C626.72,-63.38 630.66,-54.52 634.26,-46.44\"/>\n",
       "<polygon fill=\"black\" stroke=\"black\" points=\"637.41,-47.99 638.28,-37.43 631.02,-45.14 637.41,-47.99\"/>\n",
       "</g>\n",
       "</g>\n",
       "</svg>\n"
      ],
      "text/plain": [
       "<graphviz.sources.Source at 0x2167565d310>"
      ]
     },
     "metadata": {},
     "output_type": "display_data"
    },
    {
     "data": {
      "image/svg+xml": [
       "<?xml version=\"1.0\" encoding=\"UTF-8\" standalone=\"no\"?>\n",
       "<!DOCTYPE svg PUBLIC \"-//W3C//DTD SVG 1.1//EN\"\n",
       " \"http://www.w3.org/Graphics/SVG/1.1/DTD/svg11.dtd\">\n",
       "<!-- Generated by graphviz version 9.0.0 (20230911.1827)\n",
       " -->\n",
       "<!-- Title: Tree Pages: 1 -->\n",
       "<svg width=\"645pt\" height=\"325pt\"\n",
       " viewBox=\"0.00 0.00 644.50 324.50\" xmlns=\"http://www.w3.org/2000/svg\" xmlns:xlink=\"http://www.w3.org/1999/xlink\">\n",
       "<g id=\"graph0\" class=\"graph\" transform=\"scale(1 1) rotate(0) translate(4 320.5)\">\n",
       "<title>Tree</title>\n",
       "<polygon fill=\"white\" stroke=\"none\" points=\"-4,4 -4,-320.5 640.5,-320.5 640.5,4 -4,4\"/>\n",
       "<!-- 0 -->\n",
       "<g id=\"node1\" class=\"node\">\n",
       "<title>0</title>\n",
       "<polygon fill=\"#f0b88f\" stroke=\"black\" points=\"383.12,-316.5 229.88,-316.5 229.88,-259 383.12,-259 383.12,-316.5\"/>\n",
       "<text text-anchor=\"middle\" x=\"306.5\" y=\"-299.2\" font-family=\"Helvetica,sans-Serif\" font-size=\"14.00\">Pregnancies &lt;= 6.5</text>\n",
       "<text text-anchor=\"middle\" x=\"306.5\" y=\"-282.7\" font-family=\"Helvetica,sans-Serif\" font-size=\"14.00\">samples = 100.0%</text>\n",
       "<text text-anchor=\"middle\" x=\"306.5\" y=\"-266.2\" font-family=\"Helvetica,sans-Serif\" font-size=\"14.00\">value = [0.698, 0.302]</text>\n",
       "</g>\n",
       "<!-- 1 -->\n",
       "<g id=\"node2\" class=\"node\">\n",
       "<title>1</title>\n",
       "<polygon fill=\"#eda876\" stroke=\"black\" points=\"298.12,-223 144.88,-223 144.88,-165.5 298.12,-165.5 298.12,-223\"/>\n",
       "<text text-anchor=\"middle\" x=\"221.5\" y=\"-205.7\" font-family=\"Helvetica,sans-Serif\" font-size=\"14.00\">Age &lt;= 24.5</text>\n",
       "<text text-anchor=\"middle\" x=\"221.5\" y=\"-189.2\" font-family=\"Helvetica,sans-Serif\" font-size=\"14.00\">samples = 78.8%</text>\n",
       "<text text-anchor=\"middle\" x=\"221.5\" y=\"-172.7\" font-family=\"Helvetica,sans-Serif\" font-size=\"14.00\">value = [0.765, 0.235]</text>\n",
       "</g>\n",
       "<!-- 0&#45;&gt;1 -->\n",
       "<g id=\"edge1\" class=\"edge\">\n",
       "<title>0&#45;&gt;1</title>\n",
       "<path fill=\"none\" stroke=\"black\" d=\"M280.54,-258.8C272.62,-250.28 263.79,-240.78 255.43,-231.77\"/>\n",
       "<polygon fill=\"black\" stroke=\"black\" points=\"258,-229.4 248.63,-224.45 252.87,-234.16 258,-229.4\"/>\n",
       "<text text-anchor=\"middle\" x=\"246.68\" y=\"-243.28\" font-family=\"Helvetica,sans-Serif\" font-size=\"14.00\">True</text>\n",
       "</g>\n",
       "<!-- 110 -->\n",
       "<g id=\"node9\" class=\"node\">\n",
       "<title>110</title>\n",
       "<polygon fill=\"#d6ebfa\" stroke=\"black\" points=\"469.12,-223 315.88,-223 315.88,-165.5 469.12,-165.5 469.12,-223\"/>\n",
       "<text text-anchor=\"middle\" x=\"392.5\" y=\"-205.7\" font-family=\"Helvetica,sans-Serif\" font-size=\"14.00\">Insulin &lt;= 112.0</text>\n",
       "<text text-anchor=\"middle\" x=\"392.5\" y=\"-189.2\" font-family=\"Helvetica,sans-Serif\" font-size=\"14.00\">samples = 21.2%</text>\n",
       "<text text-anchor=\"middle\" x=\"392.5\" y=\"-172.7\" font-family=\"Helvetica,sans-Serif\" font-size=\"14.00\">value = [0.442, 0.558]</text>\n",
       "</g>\n",
       "<!-- 0&#45;&gt;110 -->\n",
       "<g id=\"edge8\" class=\"edge\">\n",
       "<title>0&#45;&gt;110</title>\n",
       "<path fill=\"none\" stroke=\"black\" d=\"M332.77,-258.8C340.86,-250.19 349.89,-240.58 358.43,-231.5\"/>\n",
       "<polygon fill=\"black\" stroke=\"black\" points=\"360.76,-234.13 365.06,-224.45 355.66,-229.34 360.76,-234.13\"/>\n",
       "<text text-anchor=\"middle\" x=\"366.87\" y=\"-243.28\" font-family=\"Helvetica,sans-Serif\" font-size=\"14.00\">False</text>\n",
       "</g>\n",
       "<!-- 2 -->\n",
       "<g id=\"node3\" class=\"node\">\n",
       "<title>2</title>\n",
       "<polygon fill=\"#e88f4f\" stroke=\"black\" points=\"127,-129.5 0,-129.5 0,-72 127,-72 127,-129.5\"/>\n",
       "<text text-anchor=\"middle\" x=\"63.5\" y=\"-112.2\" font-family=\"Helvetica,sans-Serif\" font-size=\"14.00\">Age &lt;= 22.5</text>\n",
       "<text text-anchor=\"middle\" x=\"63.5\" y=\"-95.7\" font-family=\"Helvetica,sans-Serif\" font-size=\"14.00\">samples = 31.2%</text>\n",
       "<text text-anchor=\"middle\" x=\"63.5\" y=\"-79.2\" font-family=\"Helvetica,sans-Serif\" font-size=\"14.00\">value = [0.9, 0.1]</text>\n",
       "</g>\n",
       "<!-- 1&#45;&gt;2 -->\n",
       "<g id=\"edge2\" class=\"edge\">\n",
       "<title>1&#45;&gt;2</title>\n",
       "<path fill=\"none\" stroke=\"black\" d=\"M172.81,-165.05C156.66,-155.7 138.53,-145.2 121.74,-135.48\"/>\n",
       "<polygon fill=\"black\" stroke=\"black\" points=\"123.75,-132.6 113.34,-130.62 120.24,-138.66 123.75,-132.6\"/>\n",
       "</g>\n",
       "<!-- 31 -->\n",
       "<g id=\"node6\" class=\"node\">\n",
       "<title>31</title>\n",
       "<polygon fill=\"#f1bb94\" stroke=\"black\" points=\"298.12,-129.5 144.88,-129.5 144.88,-72 298.12,-72 298.12,-129.5\"/>\n",
       "<text text-anchor=\"middle\" x=\"221.5\" y=\"-112.2\" font-family=\"Helvetica,sans-Serif\" font-size=\"14.00\">Age &lt;= 40.5</text>\n",
       "<text text-anchor=\"middle\" x=\"221.5\" y=\"-95.7\" font-family=\"Helvetica,sans-Serif\" font-size=\"14.00\">samples = 47.6%</text>\n",
       "<text text-anchor=\"middle\" x=\"221.5\" y=\"-79.2\" font-family=\"Helvetica,sans-Serif\" font-size=\"14.00\">value = [0.685, 0.315]</text>\n",
       "</g>\n",
       "<!-- 1&#45;&gt;31 -->\n",
       "<g id=\"edge5\" class=\"edge\">\n",
       "<title>1&#45;&gt;31</title>\n",
       "<path fill=\"none\" stroke=\"black\" d=\"M221.5,-165.3C221.5,-157.74 221.5,-149.42 221.5,-141.35\"/>\n",
       "<polygon fill=\"black\" stroke=\"black\" points=\"225,-141.36 221.5,-131.36 218,-141.36 225,-141.36\"/>\n",
       "</g>\n",
       "<!-- 3 -->\n",
       "<g id=\"node4\" class=\"node\">\n",
       "<title>3</title>\n",
       "<polygon fill=\"#c0c0c0\" stroke=\"black\" points=\"85.5,-36 31.5,-36 31.5,0 85.5,0 85.5,-36\"/>\n",
       "<text text-anchor=\"middle\" x=\"58.5\" y=\"-12.95\" font-family=\"Helvetica,sans-Serif\" font-size=\"14.00\">(...)</text>\n",
       "</g>\n",
       "<!-- 2&#45;&gt;3 -->\n",
       "<g id=\"edge3\" class=\"edge\">\n",
       "<title>2&#45;&gt;3</title>\n",
       "<path fill=\"none\" stroke=\"black\" d=\"M61.75,-71.51C61.27,-63.66 60.74,-55.13 60.25,-47.27\"/>\n",
       "<polygon fill=\"black\" stroke=\"black\" points=\"63.76,-47.32 59.65,-37.56 56.77,-47.75 63.76,-47.32\"/>\n",
       "</g>\n",
       "<!-- 14 -->\n",
       "<g id=\"node5\" class=\"node\">\n",
       "<title>14</title>\n",
       "<polygon fill=\"#c0c0c0\" stroke=\"black\" points=\"157.5,-36 103.5,-36 103.5,0 157.5,0 157.5,-36\"/>\n",
       "<text text-anchor=\"middle\" x=\"130.5\" y=\"-12.95\" font-family=\"Helvetica,sans-Serif\" font-size=\"14.00\">(...)</text>\n",
       "</g>\n",
       "<!-- 2&#45;&gt;14 -->\n",
       "<g id=\"edge4\" class=\"edge\">\n",
       "<title>2&#45;&gt;14</title>\n",
       "<path fill=\"none\" stroke=\"black\" d=\"M86.93,-71.51C94.14,-62.82 102.03,-53.31 109.09,-44.8\"/>\n",
       "<polygon fill=\"black\" stroke=\"black\" points=\"111.7,-47.14 115.39,-37.21 106.31,-42.67 111.7,-47.14\"/>\n",
       "</g>\n",
       "<!-- 32 -->\n",
       "<g id=\"node7\" class=\"node\">\n",
       "<title>32</title>\n",
       "<polygon fill=\"#c0c0c0\" stroke=\"black\" points=\"238.5,-36 184.5,-36 184.5,0 238.5,0 238.5,-36\"/>\n",
       "<text text-anchor=\"middle\" x=\"211.5\" y=\"-12.95\" font-family=\"Helvetica,sans-Serif\" font-size=\"14.00\">(...)</text>\n",
       "</g>\n",
       "<!-- 31&#45;&gt;32 -->\n",
       "<g id=\"edge6\" class=\"edge\">\n",
       "<title>31&#45;&gt;32</title>\n",
       "<path fill=\"none\" stroke=\"black\" d=\"M218,-71.51C217.03,-63.66 215.97,-55.13 215,-47.27\"/>\n",
       "<polygon fill=\"black\" stroke=\"black\" points=\"218.5,-47.04 213.8,-37.55 211.55,-47.9 218.5,-47.04\"/>\n",
       "</g>\n",
       "<!-- 91 -->\n",
       "<g id=\"node8\" class=\"node\">\n",
       "<title>91</title>\n",
       "<polygon fill=\"#c0c0c0\" stroke=\"black\" points=\"310.5,-36 256.5,-36 256.5,0 310.5,0 310.5,-36\"/>\n",
       "<text text-anchor=\"middle\" x=\"283.5\" y=\"-12.95\" font-family=\"Helvetica,sans-Serif\" font-size=\"14.00\">(...)</text>\n",
       "</g>\n",
       "<!-- 31&#45;&gt;91 -->\n",
       "<g id=\"edge7\" class=\"edge\">\n",
       "<title>31&#45;&gt;91</title>\n",
       "<path fill=\"none\" stroke=\"black\" d=\"M243.18,-71.51C249.78,-62.92 257,-53.52 263.48,-45.07\"/>\n",
       "<polygon fill=\"black\" stroke=\"black\" points=\"266.18,-47.31 269.49,-37.25 260.63,-43.05 266.18,-47.31\"/>\n",
       "</g>\n",
       "<!-- 111 -->\n",
       "<g id=\"node10\" class=\"node\">\n",
       "<title>111</title>\n",
       "<polygon fill=\"#fae6d7\" stroke=\"black\" points=\"469.12,-129.5 315.88,-129.5 315.88,-72 469.12,-72 469.12,-129.5\"/>\n",
       "<text text-anchor=\"middle\" x=\"392.5\" y=\"-112.2\" font-family=\"Helvetica,sans-Serif\" font-size=\"14.00\">Glucose &lt;= 106.5</text>\n",
       "<text text-anchor=\"middle\" x=\"392.5\" y=\"-95.7\" font-family=\"Helvetica,sans-Serif\" font-size=\"14.00\">samples = 16.2%</text>\n",
       "<text text-anchor=\"middle\" x=\"392.5\" y=\"-79.2\" font-family=\"Helvetica,sans-Serif\" font-size=\"14.00\">value = [0.556, 0.444]</text>\n",
       "</g>\n",
       "<!-- 110&#45;&gt;111 -->\n",
       "<g id=\"edge9\" class=\"edge\">\n",
       "<title>110&#45;&gt;111</title>\n",
       "<path fill=\"none\" stroke=\"black\" d=\"M392.5,-165.3C392.5,-157.74 392.5,-149.42 392.5,-141.35\"/>\n",
       "<polygon fill=\"black\" stroke=\"black\" points=\"396,-141.36 392.5,-131.36 389,-141.36 396,-141.36\"/>\n",
       "</g>\n",
       "<!-- 146 -->\n",
       "<g id=\"node13\" class=\"node\">\n",
       "<title>146</title>\n",
       "<polygon fill=\"#4fa8e8\" stroke=\"black\" points=\"627.38,-129.5 487.62,-129.5 487.62,-72 627.38,-72 627.38,-129.5\"/>\n",
       "<text text-anchor=\"middle\" x=\"557.5\" y=\"-112.2\" font-family=\"Helvetica,sans-Serif\" font-size=\"14.00\">Pregnancies &lt;= 7.5</text>\n",
       "<text text-anchor=\"middle\" x=\"557.5\" y=\"-95.7\" font-family=\"Helvetica,sans-Serif\" font-size=\"14.00\">samples = 5.0%</text>\n",
       "<text text-anchor=\"middle\" x=\"557.5\" y=\"-79.2\" font-family=\"Helvetica,sans-Serif\" font-size=\"14.00\">value = [0.1, 0.9]</text>\n",
       "</g>\n",
       "<!-- 110&#45;&gt;146 -->\n",
       "<g id=\"edge12\" class=\"edge\">\n",
       "<title>110&#45;&gt;146</title>\n",
       "<path fill=\"none\" stroke=\"black\" d=\"M443.35,-165.05C460.37,-155.61 479.5,-145 497.17,-135.2\"/>\n",
       "<polygon fill=\"black\" stroke=\"black\" points=\"498.44,-138.5 505.49,-130.59 495.05,-132.38 498.44,-138.5\"/>\n",
       "</g>\n",
       "<!-- 112 -->\n",
       "<g id=\"node11\" class=\"node\">\n",
       "<title>112</title>\n",
       "<polygon fill=\"#c0c0c0\" stroke=\"black\" points=\"400.5,-36 346.5,-36 346.5,0 400.5,0 400.5,-36\"/>\n",
       "<text text-anchor=\"middle\" x=\"373.5\" y=\"-12.95\" font-family=\"Helvetica,sans-Serif\" font-size=\"14.00\">(...)</text>\n",
       "</g>\n",
       "<!-- 111&#45;&gt;112 -->\n",
       "<g id=\"edge10\" class=\"edge\">\n",
       "<title>111&#45;&gt;112</title>\n",
       "<path fill=\"none\" stroke=\"black\" d=\"M385.85,-71.51C383.99,-63.56 381.95,-54.93 380.09,-47\"/>\n",
       "<polygon fill=\"black\" stroke=\"black\" points=\"383.55,-46.45 377.86,-37.52 376.74,-48.05 383.55,-46.45\"/>\n",
       "</g>\n",
       "<!-- 123 -->\n",
       "<g id=\"node12\" class=\"node\">\n",
       "<title>123</title>\n",
       "<polygon fill=\"#c0c0c0\" stroke=\"black\" points=\"472.5,-36 418.5,-36 418.5,0 472.5,0 472.5,-36\"/>\n",
       "<text text-anchor=\"middle\" x=\"445.5\" y=\"-12.95\" font-family=\"Helvetica,sans-Serif\" font-size=\"14.00\">(...)</text>\n",
       "</g>\n",
       "<!-- 111&#45;&gt;123 -->\n",
       "<g id=\"edge11\" class=\"edge\">\n",
       "<title>111&#45;&gt;123</title>\n",
       "<path fill=\"none\" stroke=\"black\" d=\"M411.04,-71.51C416.55,-63.1 422.58,-53.92 428.03,-45.62\"/>\n",
       "<polygon fill=\"black\" stroke=\"black\" points=\"430.92,-47.59 433.48,-37.31 425.07,-43.75 430.92,-47.59\"/>\n",
       "</g>\n",
       "<!-- 147 -->\n",
       "<g id=\"node14\" class=\"node\">\n",
       "<title>147</title>\n",
       "<polygon fill=\"#c0c0c0\" stroke=\"black\" points=\"564.5,-36 510.5,-36 510.5,0 564.5,0 564.5,-36\"/>\n",
       "<text text-anchor=\"middle\" x=\"537.5\" y=\"-12.95\" font-family=\"Helvetica,sans-Serif\" font-size=\"14.00\">(...)</text>\n",
       "</g>\n",
       "<!-- 146&#45;&gt;147 -->\n",
       "<g id=\"edge13\" class=\"edge\">\n",
       "<title>146&#45;&gt;147</title>\n",
       "<path fill=\"none\" stroke=\"black\" d=\"M550.5,-71.51C548.54,-63.56 546.4,-54.93 544.43,-47\"/>\n",
       "<polygon fill=\"black\" stroke=\"black\" points=\"547.89,-46.38 542.09,-37.51 541.09,-48.06 547.89,-46.38\"/>\n",
       "</g>\n",
       "<!-- 150 -->\n",
       "<g id=\"node15\" class=\"node\">\n",
       "<title>150</title>\n",
       "<polygon fill=\"#c0c0c0\" stroke=\"black\" points=\"636.5,-36 582.5,-36 582.5,0 636.5,0 636.5,-36\"/>\n",
       "<text text-anchor=\"middle\" x=\"609.5\" y=\"-12.95\" font-family=\"Helvetica,sans-Serif\" font-size=\"14.00\">(...)</text>\n",
       "</g>\n",
       "<!-- 146&#45;&gt;150 -->\n",
       "<g id=\"edge14\" class=\"edge\">\n",
       "<title>146&#45;&gt;150</title>\n",
       "<path fill=\"none\" stroke=\"black\" d=\"M575.69,-71.51C581.1,-63.1 587.01,-53.92 592.36,-45.62\"/>\n",
       "<polygon fill=\"black\" stroke=\"black\" points=\"595.23,-47.62 597.7,-37.32 589.35,-43.83 595.23,-47.62\"/>\n",
       "</g>\n",
       "</g>\n",
       "</svg>\n"
      ],
      "text/plain": [
       "<graphviz.sources.Source at 0x2167553a5b0>"
      ]
     },
     "metadata": {},
     "output_type": "display_data"
    }
   ],
   "source": [
    "for i in range(3):\n",
    "    tree = best_rf.estimators_[i]\n",
    "    dot_data = export_graphviz(tree, feature_names=X_train.columns,  filled=True,  max_depth=2, impurity=False, proportion=True)\n",
    "    graph = graphviz.Source(dot_data)\n",
    "    display(graph)"
   ]
  },
  {
   "cell_type": "markdown",
   "metadata": {},
   "source": [
    "EVALUATING IMPORTANCE OF EACH FEATURE AND PLOTTING THE RESULT IN A BAR CHART"
   ]
  },
  {
   "cell_type": "code",
   "execution_count": 30,
   "metadata": {},
   "outputs": [
    {
     "data": {
      "image/png": "[encoded data removed]",
      "text/plain": [
       "<Figure size 640x480 with 1 Axes>"
      ]
     },
     "metadata": {},
     "output_type": "display_data"
    }
   ],
   "source": [
    "feature_imp = pd.Series(best_rf.feature_importances_, index=X_train.columns).sort_values(ascending=False)\n",
    "\n",
    "feature_imp.plot.bar();"
   ]
  }
 ],
 "metadata": {
  "kernelspec": {
   "display_name": "Python 3",
   "language": "python",
   "name": "python3"
  },
  "language_info": {
   "codemirror_mode": {
    "name": "ipython",
    "version": 3
   },
   "file_extension": ".py",
   "mimetype": "text/x-python",
   "name": "python",
   "nbconvert_exporter": "python",
   "pygments_lexer": "ipython3",
   "version": "3.9.13"
  },
  "orig_nbformat": 4
 },
 "nbformat": 4,
 "nbformat_minor": 2
}
